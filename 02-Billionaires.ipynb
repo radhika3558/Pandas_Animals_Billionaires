{
 "cells": [
  {
   "cell_type": "markdown",
   "metadata": {},
   "source": [
    "# Homework 5, Part 2: Answer questions with pandas\n",
    "\n",
    "**Use the Excel file to answer the following questions.** This is a little more typical of what your data exploration will look like with pandas.\n",
    "\n",
    "> Again, **don't use ChatGPT for this assignment.** You should be able to memorize the most basic parts of pandas."
   ]
  },
  {
   "cell_type": "markdown",
   "metadata": {},
   "source": [
    "## 0) Setup\n",
    "\n",
    "Import pandas **with the correct name** ."
   ]
  },
  {
   "cell_type": "code",
   "execution_count": 92,
   "metadata": {},
   "outputs": [],
   "source": [
    "# 4b and 7"
   ]
  },
  {
   "cell_type": "code",
   "execution_count": 93,
   "metadata": {},
   "outputs": [],
   "source": [
    "import pandas as pd"
   ]
  },
  {
   "cell_type": "markdown",
   "metadata": {},
   "source": [
    "## 1) Reading in an Excel file\n",
    "\n",
    "Use pandas to read in the `richpeople.xlsx` Excel file, saving it as a variable with the name we'll always use for a dataframe.\n",
    "\n",
    "> **TIP:** You will use `read_excel` instead of `read_csv`. Trying `read_excel` the first time will probably not work, you'll get an error message. Be sure to read the error carefully: *you probably need to install a new library before it will work, and the error tells you what the library is named*. You *might* need to do `Kernel > Restart Kernel...` and run the notebook again from the top in order to get it to work."
   ]
  },
  {
   "cell_type": "code",
   "execution_count": 94,
   "metadata": {},
   "outputs": [
    {
     "name": "stdout",
     "output_type": "stream",
     "text": [
      "Requirement already satisfied: openpyxl in /Users/radhikarukmangadhan/.pyenv/versions/3.11.6/lib/python3.11/site-packages (3.1.2)\n",
      "Requirement already satisfied: et-xmlfile in /Users/radhikarukmangadhan/.pyenv/versions/3.11.6/lib/python3.11/site-packages (from openpyxl) (1.1.0)\n",
      "Note: you may need to restart the kernel to use updated packages.\n"
     ]
    }
   ],
   "source": [
    "pip install openpyxl"
   ]
  },
  {
   "cell_type": "code",
   "execution_count": 95,
   "metadata": {},
   "outputs": [],
   "source": [
    "df= pd.read_excel('richpeople.xlsx')"
   ]
  },
  {
   "cell_type": "markdown",
   "metadata": {},
   "source": [
    "## 2) Checking your data\n",
    "\n",
    "Display the number of rows and columns in your data. Also display the names and data types of each column."
   ]
  },
  {
   "cell_type": "code",
   "execution_count": 96,
   "metadata": {},
   "outputs": [
    {
     "data": {
      "text/html": [
       "<div>\n",
       "<style scoped>\n",
       "    .dataframe tbody tr th:only-of-type {\n",
       "        vertical-align: middle;\n",
       "    }\n",
       "\n",
       "    .dataframe tbody tr th {\n",
       "        vertical-align: top;\n",
       "    }\n",
       "\n",
       "    .dataframe thead th {\n",
       "        text-align: right;\n",
       "    }\n",
       "</style>\n",
       "<table border=\"1\" class=\"dataframe\">\n",
       "  <thead>\n",
       "    <tr style=\"text-align: right;\">\n",
       "      <th></th>\n",
       "      <th>year</th>\n",
       "      <th>name</th>\n",
       "      <th>rank</th>\n",
       "      <th>citizenship</th>\n",
       "      <th>countrycode</th>\n",
       "      <th>networthusbillion</th>\n",
       "      <th>selfmade</th>\n",
       "      <th>typeofwealth</th>\n",
       "      <th>gender</th>\n",
       "      <th>age</th>\n",
       "      <th>...</th>\n",
       "      <th>relationshiptocompany</th>\n",
       "      <th>foundingdate</th>\n",
       "      <th>gdpcurrentus</th>\n",
       "      <th>sourceofwealth</th>\n",
       "      <th>notes</th>\n",
       "      <th>notes2</th>\n",
       "      <th>source</th>\n",
       "      <th>source_2</th>\n",
       "      <th>source_3</th>\n",
       "      <th>source_4</th>\n",
       "    </tr>\n",
       "  </thead>\n",
       "  <tbody>\n",
       "    <tr>\n",
       "      <th>0</th>\n",
       "      <td>2014</td>\n",
       "      <td>A. Jerrold Perenchio</td>\n",
       "      <td>663</td>\n",
       "      <td>United States</td>\n",
       "      <td>USA</td>\n",
       "      <td>2.6</td>\n",
       "      <td>self-made</td>\n",
       "      <td>executive</td>\n",
       "      <td>male</td>\n",
       "      <td>83.0</td>\n",
       "      <td>...</td>\n",
       "      <td>former chairman and CEO</td>\n",
       "      <td>1955.0</td>\n",
       "      <td>NaN</td>\n",
       "      <td>television, Univision</td>\n",
       "      <td>represented Marlon Brando and Elizabeth Taylor</td>\n",
       "      <td>NaN</td>\n",
       "      <td>http://en.wikipedia.org/wiki/Jerry_Perenchio</td>\n",
       "      <td>http://www.forbes.com/profile/a-jerrold-perenc...</td>\n",
       "      <td>COLUMN ONE; A Hollywood Player Who Owns the Ga...</td>\n",
       "      <td>NaN</td>\n",
       "    </tr>\n",
       "    <tr>\n",
       "      <th>1</th>\n",
       "      <td>2014</td>\n",
       "      <td>Abdulla Al Futtaim</td>\n",
       "      <td>687</td>\n",
       "      <td>United Arab Emirates</td>\n",
       "      <td>ARE</td>\n",
       "      <td>2.5</td>\n",
       "      <td>inherited</td>\n",
       "      <td>inherited</td>\n",
       "      <td>male</td>\n",
       "      <td>NaN</td>\n",
       "      <td>...</td>\n",
       "      <td>relation</td>\n",
       "      <td>1930.0</td>\n",
       "      <td>NaN</td>\n",
       "      <td>auto dealers, investments</td>\n",
       "      <td>company split between him and cousin in 2000</td>\n",
       "      <td>NaN</td>\n",
       "      <td>http://en.wikipedia.org/wiki/Al-Futtaim_Group</td>\n",
       "      <td>http://www.al-futtaim.ae/content/groupProfile.asp</td>\n",
       "      <td>NaN</td>\n",
       "      <td>NaN</td>\n",
       "    </tr>\n",
       "    <tr>\n",
       "      <th>2</th>\n",
       "      <td>2014</td>\n",
       "      <td>Abdulla bin Ahmad Al Ghurair</td>\n",
       "      <td>305</td>\n",
       "      <td>United Arab Emirates</td>\n",
       "      <td>ARE</td>\n",
       "      <td>4.8</td>\n",
       "      <td>inherited</td>\n",
       "      <td>inherited</td>\n",
       "      <td>male</td>\n",
       "      <td>NaN</td>\n",
       "      <td>...</td>\n",
       "      <td>relation</td>\n",
       "      <td>1960.0</td>\n",
       "      <td>NaN</td>\n",
       "      <td>diversified</td>\n",
       "      <td>inherited from father</td>\n",
       "      <td>NaN</td>\n",
       "      <td>http://en.wikipedia.org/wiki/Al-Ghurair_Group</td>\n",
       "      <td>http://www.alghurair.com/about-us/our-history</td>\n",
       "      <td>NaN</td>\n",
       "      <td>NaN</td>\n",
       "    </tr>\n",
       "    <tr>\n",
       "      <th>3</th>\n",
       "      <td>2014</td>\n",
       "      <td>Abdullah Al Rajhi</td>\n",
       "      <td>731</td>\n",
       "      <td>Saudi Arabia</td>\n",
       "      <td>SAU</td>\n",
       "      <td>2.4</td>\n",
       "      <td>self-made</td>\n",
       "      <td>self-made finance</td>\n",
       "      <td>male</td>\n",
       "      <td>NaN</td>\n",
       "      <td>...</td>\n",
       "      <td>founder</td>\n",
       "      <td>1957.0</td>\n",
       "      <td>NaN</td>\n",
       "      <td>banking</td>\n",
       "      <td>NaN</td>\n",
       "      <td>NaN</td>\n",
       "      <td>http://en.wikipedia.org/wiki/Al-Rajhi_Bank</td>\n",
       "      <td>http://www.alrajhibank.com.sa/ar/investor-rela...</td>\n",
       "      <td>http://www.alrajhibank.com.sa/ar/about-us/page...</td>\n",
       "      <td>NaN</td>\n",
       "    </tr>\n",
       "    <tr>\n",
       "      <th>4</th>\n",
       "      <td>2014</td>\n",
       "      <td>Abdulsamad Rabiu</td>\n",
       "      <td>1372</td>\n",
       "      <td>Nigeria</td>\n",
       "      <td>NGA</td>\n",
       "      <td>1.2</td>\n",
       "      <td>self-made</td>\n",
       "      <td>founder non-finance</td>\n",
       "      <td>male</td>\n",
       "      <td>54.0</td>\n",
       "      <td>...</td>\n",
       "      <td>founder</td>\n",
       "      <td>1988.0</td>\n",
       "      <td>NaN</td>\n",
       "      <td>sugar, flour, cement</td>\n",
       "      <td>NaN</td>\n",
       "      <td>NaN</td>\n",
       "      <td>http://www.forbes.com/profile/abdulsamad-rabiu/</td>\n",
       "      <td>http://www.bloomberg.com/research/stocks/priva...</td>\n",
       "      <td>NaN</td>\n",
       "      <td>NaN</td>\n",
       "    </tr>\n",
       "    <tr>\n",
       "      <th>...</th>\n",
       "      <td>...</td>\n",
       "      <td>...</td>\n",
       "      <td>...</td>\n",
       "      <td>...</td>\n",
       "      <td>...</td>\n",
       "      <td>...</td>\n",
       "      <td>...</td>\n",
       "      <td>...</td>\n",
       "      <td>...</td>\n",
       "      <td>...</td>\n",
       "      <td>...</td>\n",
       "      <td>...</td>\n",
       "      <td>...</td>\n",
       "      <td>...</td>\n",
       "      <td>...</td>\n",
       "      <td>...</td>\n",
       "      <td>...</td>\n",
       "      <td>...</td>\n",
       "      <td>...</td>\n",
       "      <td>...</td>\n",
       "      <td>...</td>\n",
       "    </tr>\n",
       "    <tr>\n",
       "      <th>1648</th>\n",
       "      <td>2014</td>\n",
       "      <td>Zhu Yicai</td>\n",
       "      <td>1154</td>\n",
       "      <td>China</td>\n",
       "      <td>CHN</td>\n",
       "      <td>1.5</td>\n",
       "      <td>self-made</td>\n",
       "      <td>self-made finance</td>\n",
       "      <td>male</td>\n",
       "      <td>49.0</td>\n",
       "      <td>...</td>\n",
       "      <td>founder</td>\n",
       "      <td>1993.0</td>\n",
       "      <td>NaN</td>\n",
       "      <td>diversified</td>\n",
       "      <td>NaN</td>\n",
       "      <td>NaN</td>\n",
       "      <td>http://www.forbes.com/profile/zhu-yicai/</td>\n",
       "      <td>NaN</td>\n",
       "      <td>NaN</td>\n",
       "      <td>NaN</td>\n",
       "    </tr>\n",
       "    <tr>\n",
       "      <th>1649</th>\n",
       "      <td>2014</td>\n",
       "      <td>Ziyad Manasir</td>\n",
       "      <td>609</td>\n",
       "      <td>Russia</td>\n",
       "      <td>RUS</td>\n",
       "      <td>2.8</td>\n",
       "      <td>self-made</td>\n",
       "      <td>privatized and resources</td>\n",
       "      <td>male</td>\n",
       "      <td>48.0</td>\n",
       "      <td>...</td>\n",
       "      <td>founder</td>\n",
       "      <td>1992.0</td>\n",
       "      <td>NaN</td>\n",
       "      <td>construction</td>\n",
       "      <td>close ties with Gazprom</td>\n",
       "      <td>NaN</td>\n",
       "      <td>http://www.forbes.com/profile/ziyad-manasir/</td>\n",
       "      <td>http://www.themoscowtimes.com/business/article...</td>\n",
       "      <td>NaN</td>\n",
       "      <td>NaN</td>\n",
       "    </tr>\n",
       "    <tr>\n",
       "      <th>1650</th>\n",
       "      <td>2014</td>\n",
       "      <td>Ziyaudin Magomedov</td>\n",
       "      <td>1372</td>\n",
       "      <td>Russia</td>\n",
       "      <td>RUS</td>\n",
       "      <td>1.2</td>\n",
       "      <td>self-made</td>\n",
       "      <td>privatized and resources</td>\n",
       "      <td>male</td>\n",
       "      <td>45.0</td>\n",
       "      <td>...</td>\n",
       "      <td>founder</td>\n",
       "      <td>2004.0</td>\n",
       "      <td>NaN</td>\n",
       "      <td>port, gas</td>\n",
       "      <td>NaN</td>\n",
       "      <td>NaN</td>\n",
       "      <td>http://www.summagroup.ru/about/history/en/</td>\n",
       "      <td>http://www.forbes.com/profile/ziyaudin-magomedov/</td>\n",
       "      <td>NaN</td>\n",
       "      <td>NaN</td>\n",
       "    </tr>\n",
       "    <tr>\n",
       "      <th>1651</th>\n",
       "      <td>2014</td>\n",
       "      <td>Zong Qinghou</td>\n",
       "      <td>94</td>\n",
       "      <td>China</td>\n",
       "      <td>CHN</td>\n",
       "      <td>11.6</td>\n",
       "      <td>self-made</td>\n",
       "      <td>founder non-finance</td>\n",
       "      <td>male</td>\n",
       "      <td>68.0</td>\n",
       "      <td>...</td>\n",
       "      <td>founder</td>\n",
       "      <td>1987.0</td>\n",
       "      <td>NaN</td>\n",
       "      <td>beverages</td>\n",
       "      <td>NaN</td>\n",
       "      <td>NaN</td>\n",
       "      <td>http://en.wikipedia.org/wiki/Zong_Qinghou</td>\n",
       "      <td>http://mic.com/articles/39659/zong-qinghou-chi...</td>\n",
       "      <td>NaN</td>\n",
       "      <td>NaN</td>\n",
       "    </tr>\n",
       "    <tr>\n",
       "      <th>1652</th>\n",
       "      <td>2014</td>\n",
       "      <td>Zygmunt Solorz-Zak</td>\n",
       "      <td>446</td>\n",
       "      <td>Poland</td>\n",
       "      <td>POL</td>\n",
       "      <td>3.5</td>\n",
       "      <td>self-made</td>\n",
       "      <td>founder non-finance</td>\n",
       "      <td>male</td>\n",
       "      <td>57.0</td>\n",
       "      <td>...</td>\n",
       "      <td>founder</td>\n",
       "      <td>1992.0</td>\n",
       "      <td>NaN</td>\n",
       "      <td>TV broadcasting</td>\n",
       "      <td>NaN</td>\n",
       "      <td>NaN</td>\n",
       "      <td>http://en.wikipedia.org/wiki/Zygmunt_Solorz-%C...</td>\n",
       "      <td>No Mob Bosses in This Legal Strategy The New Y...</td>\n",
       "      <td>NaN</td>\n",
       "      <td>NaN</td>\n",
       "    </tr>\n",
       "  </tbody>\n",
       "</table>\n",
       "<p>1653 rows × 30 columns</p>\n",
       "</div>"
      ],
      "text/plain": [
       "      year                          name  rank           citizenship  \\\n",
       "0     2014          A. Jerrold Perenchio   663         United States   \n",
       "1     2014            Abdulla Al Futtaim   687  United Arab Emirates   \n",
       "2     2014  Abdulla bin Ahmad Al Ghurair   305  United Arab Emirates   \n",
       "3     2014             Abdullah Al Rajhi   731          Saudi Arabia   \n",
       "4     2014              Abdulsamad Rabiu  1372               Nigeria   \n",
       "...    ...                           ...   ...                   ...   \n",
       "1648  2014                     Zhu Yicai  1154                 China   \n",
       "1649  2014                 Ziyad Manasir   609                Russia   \n",
       "1650  2014            Ziyaudin Magomedov  1372                Russia   \n",
       "1651  2014                  Zong Qinghou    94                 China   \n",
       "1652  2014            Zygmunt Solorz-Zak   446                Poland   \n",
       "\n",
       "     countrycode  networthusbillion   selfmade              typeofwealth  \\\n",
       "0            USA                2.6  self-made                 executive   \n",
       "1            ARE                2.5  inherited                 inherited   \n",
       "2            ARE                4.8  inherited                 inherited   \n",
       "3            SAU                2.4  self-made         self-made finance   \n",
       "4            NGA                1.2  self-made       founder non-finance   \n",
       "...          ...                ...        ...                       ...   \n",
       "1648         CHN                1.5  self-made         self-made finance   \n",
       "1649         RUS                2.8  self-made  privatized and resources   \n",
       "1650         RUS                1.2  self-made  privatized and resources   \n",
       "1651         CHN               11.6  self-made       founder non-finance   \n",
       "1652         POL                3.5  self-made       founder non-finance   \n",
       "\n",
       "     gender   age  ...    relationshiptocompany foundingdate gdpcurrentus  \\\n",
       "0      male  83.0  ...  former chairman and CEO       1955.0          NaN   \n",
       "1      male   NaN  ...                 relation       1930.0          NaN   \n",
       "2      male   NaN  ...                 relation       1960.0          NaN   \n",
       "3      male   NaN  ...                  founder       1957.0          NaN   \n",
       "4      male  54.0  ...                  founder       1988.0          NaN   \n",
       "...     ...   ...  ...                      ...          ...          ...   \n",
       "1648   male  49.0  ...                  founder       1993.0          NaN   \n",
       "1649   male  48.0  ...                  founder       1992.0          NaN   \n",
       "1650   male  45.0  ...                  founder       2004.0          NaN   \n",
       "1651   male  68.0  ...                  founder       1987.0          NaN   \n",
       "1652   male  57.0  ...                  founder       1992.0          NaN   \n",
       "\n",
       "                 sourceofwealth  \\\n",
       "0         television, Univision   \n",
       "1     auto dealers, investments   \n",
       "2                   diversified   \n",
       "3                       banking   \n",
       "4          sugar, flour, cement   \n",
       "...                         ...   \n",
       "1648                diversified   \n",
       "1649               construction   \n",
       "1650                  port, gas   \n",
       "1651                  beverages   \n",
       "1652            TV broadcasting   \n",
       "\n",
       "                                               notes  notes2  \\\n",
       "0     represented Marlon Brando and Elizabeth Taylor     NaN   \n",
       "1       company split between him and cousin in 2000     NaN   \n",
       "2                              inherited from father     NaN   \n",
       "3                                                NaN     NaN   \n",
       "4                                                NaN     NaN   \n",
       "...                                              ...     ...   \n",
       "1648                                             NaN     NaN   \n",
       "1649                         close ties with Gazprom     NaN   \n",
       "1650                                             NaN     NaN   \n",
       "1651                                             NaN     NaN   \n",
       "1652                                             NaN     NaN   \n",
       "\n",
       "                                                 source  \\\n",
       "0          http://en.wikipedia.org/wiki/Jerry_Perenchio   \n",
       "1         http://en.wikipedia.org/wiki/Al-Futtaim_Group   \n",
       "2         http://en.wikipedia.org/wiki/Al-Ghurair_Group   \n",
       "3            http://en.wikipedia.org/wiki/Al-Rajhi_Bank   \n",
       "4       http://www.forbes.com/profile/abdulsamad-rabiu/   \n",
       "...                                                 ...   \n",
       "1648           http://www.forbes.com/profile/zhu-yicai/   \n",
       "1649       http://www.forbes.com/profile/ziyad-manasir/   \n",
       "1650         http://www.summagroup.ru/about/history/en/   \n",
       "1651          http://en.wikipedia.org/wiki/Zong_Qinghou   \n",
       "1652  http://en.wikipedia.org/wiki/Zygmunt_Solorz-%C...   \n",
       "\n",
       "                                               source_2  \\\n",
       "0     http://www.forbes.com/profile/a-jerrold-perenc...   \n",
       "1     http://www.al-futtaim.ae/content/groupProfile.asp   \n",
       "2         http://www.alghurair.com/about-us/our-history   \n",
       "3     http://www.alrajhibank.com.sa/ar/investor-rela...   \n",
       "4     http://www.bloomberg.com/research/stocks/priva...   \n",
       "...                                                 ...   \n",
       "1648                                                NaN   \n",
       "1649  http://www.themoscowtimes.com/business/article...   \n",
       "1650  http://www.forbes.com/profile/ziyaudin-magomedov/   \n",
       "1651  http://mic.com/articles/39659/zong-qinghou-chi...   \n",
       "1652  No Mob Bosses in This Legal Strategy The New Y...   \n",
       "\n",
       "                                               source_3 source_4  \n",
       "0     COLUMN ONE; A Hollywood Player Who Owns the Ga...      NaN  \n",
       "1                                                   NaN      NaN  \n",
       "2                                                   NaN      NaN  \n",
       "3     http://www.alrajhibank.com.sa/ar/about-us/page...      NaN  \n",
       "4                                                   NaN      NaN  \n",
       "...                                                 ...      ...  \n",
       "1648                                                NaN      NaN  \n",
       "1649                                                NaN      NaN  \n",
       "1650                                                NaN      NaN  \n",
       "1651                                                NaN      NaN  \n",
       "1652                                                NaN      NaN  \n",
       "\n",
       "[1653 rows x 30 columns]"
      ]
     },
     "execution_count": 96,
     "metadata": {},
     "output_type": "execute_result"
    }
   ],
   "source": [
    "df"
   ]
  },
  {
   "cell_type": "code",
   "execution_count": 97,
   "metadata": {},
   "outputs": [
    {
     "name": "stdout",
     "output_type": "stream",
     "text": [
      "rows = 1653, columns = 30\n"
     ]
    }
   ],
   "source": [
    "num_rows = len(df)\n",
    "num_columns = len(df.columns)\n",
    "print(f'rows = {num_rows}, columns = {num_columns}')"
   ]
  },
  {
   "cell_type": "code",
   "execution_count": 98,
   "metadata": {},
   "outputs": [
    {
     "name": "stdout",
     "output_type": "stream",
     "text": [
      "<class 'pandas.core.frame.DataFrame'>\n",
      "RangeIndex: 1653 entries, 0 to 1652\n",
      "Data columns (total 30 columns):\n",
      " #   Column                   Non-Null Count  Dtype  \n",
      "---  ------                   --------------  -----  \n",
      " 0   year                     1653 non-null   int64  \n",
      " 1   name                     1653 non-null   object \n",
      " 2   rank                     1653 non-null   int64  \n",
      " 3   citizenship              1653 non-null   object \n",
      " 4   countrycode              1653 non-null   object \n",
      " 5   networthusbillion        1653 non-null   float64\n",
      " 6   selfmade                 1651 non-null   object \n",
      " 7   typeofwealth             1651 non-null   object \n",
      " 8   gender                   1653 non-null   object \n",
      " 9   age                      1590 non-null   float64\n",
      " 10  industry                 1652 non-null   object \n",
      " 11  IndustryAggregates       1652 non-null   object \n",
      " 12  region                   1653 non-null   object \n",
      " 13  north                    1653 non-null   int64  \n",
      " 14  politicalconnection      56 non-null     float64\n",
      " 15  founder                  1653 non-null   int64  \n",
      " 16  generationofinheritance  1653 non-null   object \n",
      " 17  sector                   1653 non-null   object \n",
      " 18  company                  1645 non-null   object \n",
      " 19  companytype              1646 non-null   object \n",
      " 20  relationshiptocompany    1651 non-null   object \n",
      " 21  foundingdate             1641 non-null   float64\n",
      " 22  gdpcurrentus             0 non-null      float64\n",
      " 23  sourceofwealth           1635 non-null   object \n",
      " 24  notes                    683 non-null    object \n",
      " 25  notes2                   111 non-null    object \n",
      " 26  source                   1653 non-null   object \n",
      " 27  source_2                 1416 non-null   object \n",
      " 28  source_3                 523 non-null    object \n",
      " 29  source_4                 17 non-null     object \n",
      "dtypes: float64(5), int64(4), object(21)\n",
      "memory usage: 387.6+ KB\n"
     ]
    }
   ],
   "source": [
    "#column data types\n",
    "df.info()"
   ]
  },
  {
   "cell_type": "code",
   "execution_count": null,
   "metadata": {},
   "outputs": [],
   "source": []
  },
  {
   "cell_type": "markdown",
   "metadata": {},
   "source": [
    "## 3) Who are the top 10 richest billionaires? Use the `networthusbillion` column."
   ]
  },
  {
   "cell_type": "code",
   "execution_count": 99,
   "metadata": {},
   "outputs": [
    {
     "data": {
      "text/html": [
       "<div>\n",
       "<style scoped>\n",
       "    .dataframe tbody tr th:only-of-type {\n",
       "        vertical-align: middle;\n",
       "    }\n",
       "\n",
       "    .dataframe tbody tr th {\n",
       "        vertical-align: top;\n",
       "    }\n",
       "\n",
       "    .dataframe thead th {\n",
       "        text-align: right;\n",
       "    }\n",
       "</style>\n",
       "<table border=\"1\" class=\"dataframe\">\n",
       "  <thead>\n",
       "    <tr style=\"text-align: right;\">\n",
       "      <th></th>\n",
       "      <th>year</th>\n",
       "      <th>name</th>\n",
       "      <th>rank</th>\n",
       "      <th>citizenship</th>\n",
       "      <th>countrycode</th>\n",
       "      <th>networthusbillion</th>\n",
       "      <th>selfmade</th>\n",
       "      <th>typeofwealth</th>\n",
       "      <th>gender</th>\n",
       "      <th>age</th>\n",
       "      <th>...</th>\n",
       "      <th>relationshiptocompany</th>\n",
       "      <th>foundingdate</th>\n",
       "      <th>gdpcurrentus</th>\n",
       "      <th>sourceofwealth</th>\n",
       "      <th>notes</th>\n",
       "      <th>notes2</th>\n",
       "      <th>source</th>\n",
       "      <th>source_2</th>\n",
       "      <th>source_3</th>\n",
       "      <th>source_4</th>\n",
       "    </tr>\n",
       "  </thead>\n",
       "  <tbody>\n",
       "    <tr>\n",
       "      <th>184</th>\n",
       "      <td>2014</td>\n",
       "      <td>Bill Gates</td>\n",
       "      <td>1</td>\n",
       "      <td>United States</td>\n",
       "      <td>USA</td>\n",
       "      <td>76.0</td>\n",
       "      <td>self-made</td>\n",
       "      <td>founder non-finance</td>\n",
       "      <td>male</td>\n",
       "      <td>58.0</td>\n",
       "      <td>...</td>\n",
       "      <td>founder</td>\n",
       "      <td>1975.0</td>\n",
       "      <td>NaN</td>\n",
       "      <td>Microsoft</td>\n",
       "      <td>NaN</td>\n",
       "      <td>NaN</td>\n",
       "      <td>http://www.forbes.com/profile/bill-gates/</td>\n",
       "      <td>NaN</td>\n",
       "      <td>NaN</td>\n",
       "      <td>NaN</td>\n",
       "    </tr>\n",
       "    <tr>\n",
       "      <th>226</th>\n",
       "      <td>2014</td>\n",
       "      <td>Carlos Slim Helu</td>\n",
       "      <td>2</td>\n",
       "      <td>Mexico</td>\n",
       "      <td>MEX</td>\n",
       "      <td>72.0</td>\n",
       "      <td>self-made</td>\n",
       "      <td>privatized and resources</td>\n",
       "      <td>male</td>\n",
       "      <td>74.0</td>\n",
       "      <td>...</td>\n",
       "      <td>founder</td>\n",
       "      <td>1990.0</td>\n",
       "      <td>NaN</td>\n",
       "      <td>telecom</td>\n",
       "      <td>NaN</td>\n",
       "      <td>NaN</td>\n",
       "      <td>http://www.ozy.com/provocateurs/carlos-slims-w...</td>\n",
       "      <td>NaN</td>\n",
       "      <td>NaN</td>\n",
       "      <td>NaN</td>\n",
       "    </tr>\n",
       "    <tr>\n",
       "      <th>79</th>\n",
       "      <td>2014</td>\n",
       "      <td>Amancio Ortega</td>\n",
       "      <td>3</td>\n",
       "      <td>Spain</td>\n",
       "      <td>ESP</td>\n",
       "      <td>64.0</td>\n",
       "      <td>self-made</td>\n",
       "      <td>founder non-finance</td>\n",
       "      <td>male</td>\n",
       "      <td>77.0</td>\n",
       "      <td>...</td>\n",
       "      <td>founder</td>\n",
       "      <td>1975.0</td>\n",
       "      <td>NaN</td>\n",
       "      <td>retail</td>\n",
       "      <td>NaN</td>\n",
       "      <td>NaN</td>\n",
       "      <td>http://www.forbes.com/profile/amancio-ortega/</td>\n",
       "      <td>NaN</td>\n",
       "      <td>NaN</td>\n",
       "      <td>NaN</td>\n",
       "    </tr>\n",
       "    <tr>\n",
       "      <th>1562</th>\n",
       "      <td>2014</td>\n",
       "      <td>Warren Buffett</td>\n",
       "      <td>4</td>\n",
       "      <td>United States</td>\n",
       "      <td>USA</td>\n",
       "      <td>58.2</td>\n",
       "      <td>self-made</td>\n",
       "      <td>founder non-finance</td>\n",
       "      <td>male</td>\n",
       "      <td>83.0</td>\n",
       "      <td>...</td>\n",
       "      <td>founder</td>\n",
       "      <td>1839.0</td>\n",
       "      <td>NaN</td>\n",
       "      <td>Berkshire Hathaway</td>\n",
       "      <td>NaN</td>\n",
       "      <td>NaN</td>\n",
       "      <td>http://www.forbes.com/lists/2009/10/billionair...</td>\n",
       "      <td>http://www.forbes.com/companies/berkshire-hath...</td>\n",
       "      <td>NaN</td>\n",
       "      <td>NaN</td>\n",
       "    </tr>\n",
       "    <tr>\n",
       "      <th>862</th>\n",
       "      <td>2014</td>\n",
       "      <td>Larry Ellison</td>\n",
       "      <td>5</td>\n",
       "      <td>United States</td>\n",
       "      <td>USA</td>\n",
       "      <td>48.0</td>\n",
       "      <td>self-made</td>\n",
       "      <td>founder non-finance</td>\n",
       "      <td>male</td>\n",
       "      <td>69.0</td>\n",
       "      <td>...</td>\n",
       "      <td>founder</td>\n",
       "      <td>1977.0</td>\n",
       "      <td>NaN</td>\n",
       "      <td>Oracle</td>\n",
       "      <td>NaN</td>\n",
       "      <td>NaN</td>\n",
       "      <td>http://www.forbes.com/profile/larry-ellison/</td>\n",
       "      <td>http://www.businessinsider.com/how-larry-ellis...</td>\n",
       "      <td>NaN</td>\n",
       "      <td>NaN</td>\n",
       "    </tr>\n",
       "    <tr>\n",
       "      <th>339</th>\n",
       "      <td>2014</td>\n",
       "      <td>David Koch</td>\n",
       "      <td>6</td>\n",
       "      <td>United States</td>\n",
       "      <td>USA</td>\n",
       "      <td>40.0</td>\n",
       "      <td>inherited</td>\n",
       "      <td>inherited</td>\n",
       "      <td>male</td>\n",
       "      <td>73.0</td>\n",
       "      <td>...</td>\n",
       "      <td>relation</td>\n",
       "      <td>1940.0</td>\n",
       "      <td>NaN</td>\n",
       "      <td>diversified</td>\n",
       "      <td>inherited from father</td>\n",
       "      <td>NaN</td>\n",
       "      <td>http://www.kochind.com/About_Koch/History_Time...</td>\n",
       "      <td>NaN</td>\n",
       "      <td>NaN</td>\n",
       "      <td>NaN</td>\n",
       "    </tr>\n",
       "    <tr>\n",
       "      <th>247</th>\n",
       "      <td>2014</td>\n",
       "      <td>Charles Koch</td>\n",
       "      <td>6</td>\n",
       "      <td>United States</td>\n",
       "      <td>USA</td>\n",
       "      <td>40.0</td>\n",
       "      <td>inherited</td>\n",
       "      <td>inherited</td>\n",
       "      <td>male</td>\n",
       "      <td>78.0</td>\n",
       "      <td>...</td>\n",
       "      <td>relation</td>\n",
       "      <td>1940.0</td>\n",
       "      <td>NaN</td>\n",
       "      <td>diversified</td>\n",
       "      <td>inherited from father</td>\n",
       "      <td>NaN</td>\n",
       "      <td>http://www.kochind.com/About_Koch/History_Time...</td>\n",
       "      <td>NaN</td>\n",
       "      <td>NaN</td>\n",
       "      <td>NaN</td>\n",
       "    </tr>\n",
       "    <tr>\n",
       "      <th>1364</th>\n",
       "      <td>2014</td>\n",
       "      <td>Sheldon Adelson</td>\n",
       "      <td>8</td>\n",
       "      <td>United States</td>\n",
       "      <td>USA</td>\n",
       "      <td>38.0</td>\n",
       "      <td>self-made</td>\n",
       "      <td>self-made finance</td>\n",
       "      <td>male</td>\n",
       "      <td>80.0</td>\n",
       "      <td>...</td>\n",
       "      <td>founder</td>\n",
       "      <td>1952.0</td>\n",
       "      <td>NaN</td>\n",
       "      <td>casinos</td>\n",
       "      <td>NaN</td>\n",
       "      <td>NaN</td>\n",
       "      <td>http://www.forbes.com/profile/sheldon-adelson/</td>\n",
       "      <td>http://lasvegassun.com/news/1996/nov/26/rat-pa...</td>\n",
       "      <td>NaN</td>\n",
       "      <td>NaN</td>\n",
       "    </tr>\n",
       "    <tr>\n",
       "      <th>280</th>\n",
       "      <td>2014</td>\n",
       "      <td>Christy Walton</td>\n",
       "      <td>9</td>\n",
       "      <td>United States</td>\n",
       "      <td>USA</td>\n",
       "      <td>36.7</td>\n",
       "      <td>inherited</td>\n",
       "      <td>inherited</td>\n",
       "      <td>female</td>\n",
       "      <td>59.0</td>\n",
       "      <td>...</td>\n",
       "      <td>relation</td>\n",
       "      <td>1962.0</td>\n",
       "      <td>NaN</td>\n",
       "      <td>Wal-Mart</td>\n",
       "      <td>widow</td>\n",
       "      <td>NaN</td>\n",
       "      <td>http://www.forbes.com/profile/christy-walton/</td>\n",
       "      <td>NaN</td>\n",
       "      <td>NaN</td>\n",
       "      <td>NaN</td>\n",
       "    </tr>\n",
       "    <tr>\n",
       "      <th>724</th>\n",
       "      <td>2014</td>\n",
       "      <td>Jim Walton</td>\n",
       "      <td>10</td>\n",
       "      <td>United States</td>\n",
       "      <td>USA</td>\n",
       "      <td>34.7</td>\n",
       "      <td>inherited</td>\n",
       "      <td>inherited</td>\n",
       "      <td>male</td>\n",
       "      <td>66.0</td>\n",
       "      <td>...</td>\n",
       "      <td>relation</td>\n",
       "      <td>1962.0</td>\n",
       "      <td>NaN</td>\n",
       "      <td>Wal-Mart</td>\n",
       "      <td>inherited from father</td>\n",
       "      <td>NaN</td>\n",
       "      <td>http://www.forbes.com/profile/jim-walton/</td>\n",
       "      <td>NaN</td>\n",
       "      <td>NaN</td>\n",
       "      <td>NaN</td>\n",
       "    </tr>\n",
       "  </tbody>\n",
       "</table>\n",
       "<p>10 rows × 30 columns</p>\n",
       "</div>"
      ],
      "text/plain": [
       "      year              name  rank    citizenship countrycode  \\\n",
       "184   2014        Bill Gates     1  United States         USA   \n",
       "226   2014  Carlos Slim Helu     2         Mexico         MEX   \n",
       "79    2014    Amancio Ortega     3          Spain         ESP   \n",
       "1562  2014    Warren Buffett     4  United States         USA   \n",
       "862   2014     Larry Ellison     5  United States         USA   \n",
       "339   2014        David Koch     6  United States         USA   \n",
       "247   2014      Charles Koch     6  United States         USA   \n",
       "1364  2014   Sheldon Adelson     8  United States         USA   \n",
       "280   2014    Christy Walton     9  United States         USA   \n",
       "724   2014        Jim Walton    10  United States         USA   \n",
       "\n",
       "      networthusbillion   selfmade              typeofwealth  gender   age  \\\n",
       "184                76.0  self-made       founder non-finance    male  58.0   \n",
       "226                72.0  self-made  privatized and resources    male  74.0   \n",
       "79                 64.0  self-made       founder non-finance    male  77.0   \n",
       "1562               58.2  self-made       founder non-finance    male  83.0   \n",
       "862                48.0  self-made       founder non-finance    male  69.0   \n",
       "339                40.0  inherited                 inherited    male  73.0   \n",
       "247                40.0  inherited                 inherited    male  78.0   \n",
       "1364               38.0  self-made         self-made finance    male  80.0   \n",
       "280                36.7  inherited                 inherited  female  59.0   \n",
       "724                34.7  inherited                 inherited    male  66.0   \n",
       "\n",
       "      ... relationshiptocompany foundingdate gdpcurrentus      sourceofwealth  \\\n",
       "184   ...               founder       1975.0          NaN           Microsoft   \n",
       "226   ...               founder       1990.0          NaN             telecom   \n",
       "79    ...               founder       1975.0          NaN              retail   \n",
       "1562  ...               founder       1839.0          NaN  Berkshire Hathaway   \n",
       "862   ...               founder       1977.0          NaN              Oracle   \n",
       "339   ...              relation       1940.0          NaN         diversified   \n",
       "247   ...              relation       1940.0          NaN         diversified   \n",
       "1364  ...               founder       1952.0          NaN             casinos   \n",
       "280   ...              relation       1962.0          NaN            Wal-Mart   \n",
       "724   ...              relation       1962.0          NaN            Wal-Mart   \n",
       "\n",
       "                      notes  notes2  \\\n",
       "184                     NaN     NaN   \n",
       "226                     NaN     NaN   \n",
       "79                      NaN     NaN   \n",
       "1562                    NaN     NaN   \n",
       "862                     NaN     NaN   \n",
       "339   inherited from father     NaN   \n",
       "247   inherited from father     NaN   \n",
       "1364                    NaN     NaN   \n",
       "280                   widow     NaN   \n",
       "724   inherited from father     NaN   \n",
       "\n",
       "                                                 source  \\\n",
       "184           http://www.forbes.com/profile/bill-gates/   \n",
       "226   http://www.ozy.com/provocateurs/carlos-slims-w...   \n",
       "79        http://www.forbes.com/profile/amancio-ortega/   \n",
       "1562  http://www.forbes.com/lists/2009/10/billionair...   \n",
       "862        http://www.forbes.com/profile/larry-ellison/   \n",
       "339   http://www.kochind.com/About_Koch/History_Time...   \n",
       "247   http://www.kochind.com/About_Koch/History_Time...   \n",
       "1364     http://www.forbes.com/profile/sheldon-adelson/   \n",
       "280       http://www.forbes.com/profile/christy-walton/   \n",
       "724           http://www.forbes.com/profile/jim-walton/   \n",
       "\n",
       "                                               source_2 source_3 source_4  \n",
       "184                                                 NaN      NaN      NaN  \n",
       "226                                                 NaN      NaN      NaN  \n",
       "79                                                  NaN      NaN      NaN  \n",
       "1562  http://www.forbes.com/companies/berkshire-hath...      NaN      NaN  \n",
       "862   http://www.businessinsider.com/how-larry-ellis...      NaN      NaN  \n",
       "339                                                 NaN      NaN      NaN  \n",
       "247                                                 NaN      NaN      NaN  \n",
       "1364  http://lasvegassun.com/news/1996/nov/26/rat-pa...      NaN      NaN  \n",
       "280                                                 NaN      NaN      NaN  \n",
       "724                                                 NaN      NaN      NaN  \n",
       "\n",
       "[10 rows x 30 columns]"
      ]
     },
     "execution_count": 99,
     "metadata": {},
     "output_type": "execute_result"
    }
   ],
   "source": [
    "df.sort_values('networthusbillion', ascending=False).head(10)"
   ]
  },
  {
   "cell_type": "markdown",
   "metadata": {},
   "source": [
    "## 4a) How many male billionaires are there compared to the number of female billionares?\n",
    "\n",
    "> **TIP:** This is not a `.groupby`"
   ]
  },
  {
   "cell_type": "code",
   "execution_count": 100,
   "metadata": {},
   "outputs": [
    {
     "name": "stdout",
     "output_type": "stream",
     "text": [
      "gender\n",
      "male      1473\n",
      "female     180\n",
      "Name: count, dtype: int64\n"
     ]
    }
   ],
   "source": [
    "gender_share = df['gender'].value_counts()\n",
    "print(gender_share)"
   ]
  },
  {
   "cell_type": "code",
   "execution_count": 101,
   "metadata": {},
   "outputs": [
    {
     "name": "stdout",
     "output_type": "stream",
     "text": [
      "1473\n"
     ]
    }
   ],
   "source": [
    "males = df['gender'] == 'male'\n",
    "males_df = df[males]\n",
    "male_count = len(males_df)\n",
    "print(male_count)"
   ]
  },
  {
   "cell_type": "code",
   "execution_count": 102,
   "metadata": {},
   "outputs": [
    {
     "name": "stdout",
     "output_type": "stream",
     "text": [
      "180\n"
     ]
    }
   ],
   "source": [
    "females = df['gender'] == 'female'\n",
    "females_df = df[females]\n",
    "female_count = len(females_df)\n",
    "print(female_count)"
   ]
  },
  {
   "cell_type": "markdown",
   "metadata": {},
   "source": [
    "## 4b) What percent is that?\n",
    "\n",
    "> **TIP:** Doing percentages with the answer to `4a` is so common that there's an extra parameter to automatically calculate it. Look at the documentation!"
   ]
  },
  {
   "cell_type": "code",
   "execution_count": 109,
   "metadata": {},
   "outputs": [
    {
     "data": {
      "text/plain": [
       "gender\n",
       "male      0.891\n",
       "female    0.109\n",
       "Name: proportion, dtype: float64"
      ]
     },
     "execution_count": 109,
     "metadata": {},
     "output_type": "execute_result"
    }
   ],
   "source": [
    "df.gender.value_counts(normalize=True).round(3)"
   ]
  },
  {
   "cell_type": "markdown",
   "metadata": {},
   "source": [
    "## 4c) Is the average wealth different for a female billionaire as compared to a male billionaire?\n",
    "\n",
    "> **TIP:** This one *does* use `.groupby`. You can pick what 'average' means in this context."
   ]
  },
  {
   "cell_type": "code",
   "execution_count": 110,
   "metadata": {},
   "outputs": [
    {
     "name": "stdout",
     "output_type": "stream",
     "text": [
      "gender\n",
      "female    3.920556\n",
      "male      3.902716\n",
      "Name: networthusbillion, dtype: float64\n"
     ]
    }
   ],
   "source": [
    "average_wealth = df.groupby('gender')['networthusbillion'].mean()\n",
    "print(average_wealth) #Average wealth is almost the same"
   ]
  },
  {
   "cell_type": "code",
   "execution_count": null,
   "metadata": {},
   "outputs": [],
   "source": []
  },
  {
   "cell_type": "markdown",
   "metadata": {},
   "source": [
    "## 5a) What is the most common source/type of wealth?"
   ]
  },
  {
   "cell_type": "code",
   "execution_count": 111,
   "metadata": {},
   "outputs": [
    {
     "name": "stdout",
     "output_type": "stream",
     "text": [
      "Most Common Source of Wealth: typeofwealth\n",
      "inherited    506\n",
      "Name: count, dtype: int64\n"
     ]
    }
   ],
   "source": [
    "common = df['typeofwealth'].value_counts(ascending = False).head(1)\n",
    "print(\"Most Common Source of Wealth:\", common)"
   ]
  },
  {
   "cell_type": "markdown",
   "metadata": {},
   "source": [
    "## 5b) Is the most common source/type of wealth different between men and women?\n",
    "\n",
    "> **TIP:** You know how to `groupby` and you know how to count how many times a value is in a column. Can you put them together??? You could also do this as two separate cells where you calculate it separately for men and women.\n",
    ">\n",
    "> **TIP:** Use percentages for this, it makes it a lot more readable."
   ]
  },
  {
   "cell_type": "code",
   "execution_count": 112,
   "metadata": {},
   "outputs": [
    {
     "name": "stdout",
     "output_type": "stream",
     "text": [
      "typeofwealth\n",
      "executive                    9.232858\n",
      "founder non-finance         30.278344\n",
      "inherited                   24.711473\n",
      "privatized and resources    12.695180\n",
      "self-made finance           22.946368\n",
      "Name: typeofwealth, dtype: float64\n",
      "Most common source of wealth for male billionaires: founder non-finance\n"
     ]
    }
   ],
   "source": [
    "# Used type of wealth \n",
    "male_source = df[df['gender'] == 'male'].groupby('typeofwealth')['typeofwealth'].count() / len(df[df['gender'] == 'male']) * 100\n",
    "print(male_source)\n",
    "male_common_source= male_source.idxmax()\n",
    "print(\"Most common source of wealth for male billionaires:\", male_common_source)"
   ]
  },
  {
   "cell_type": "code",
   "execution_count": 113,
   "metadata": {},
   "outputs": [
    {
     "name": "stdout",
     "output_type": "stream",
     "text": [
      "typeofwealth\n",
      "executive                    3.333333\n",
      "founder non-finance         11.666667\n",
      "inherited                   78.888889\n",
      "privatized and resources     2.777778\n",
      "self-made finance            3.333333\n",
      "Name: typeofwealth, dtype: float64\n",
      "Most common source of wealth for female billionaires: inherited\n"
     ]
    }
   ],
   "source": [
    "female_source = df[df['gender'] == 'female'].groupby('typeofwealth')['typeofwealth'].count() / len(df[df['gender'] == 'female']) * 100\n",
    "print(female_source)\n",
    "female_common_source = female_source.idxmax()\n",
    "print(\"Most common source of wealth for female billionaires:\", female_common_source)\n"
   ]
  },
  {
   "cell_type": "markdown",
   "metadata": {},
   "source": [
    "## 6a) What companies have the most billionaires? Let's see the top five.\n",
    "\n",
    "> **TIP:** You can use `.head()` on *anything*, not just your basic `df`\n",
    ">\n",
    "> **TIP:** You might feel like you should use `groupby`, but don't! There's an easier way to count."
   ]
  },
  {
   "cell_type": "code",
   "execution_count": 114,
   "metadata": {},
   "outputs": [
    {
     "data": {
      "text/plain": [
       "company\n",
       "Hyatt                  11\n",
       "Oetker-Gruppe           8\n",
       "S. C. Johnson & Son     7\n",
       "Alfa Group              6\n",
       "Votorantim Group        6\n",
       "Name: count, dtype: int64"
      ]
     },
     "execution_count": 114,
     "metadata": {},
     "output_type": "execute_result"
    }
   ],
   "source": [
    "df['company'].value_counts().head(5)"
   ]
  },
  {
   "cell_type": "markdown",
   "metadata": {},
   "source": [
    "### 6b) Graph those top 5 as a horizontal bar graph. Make the largest bar be at the top of the graph.\n",
    "\n",
    "> **TIP:** Just try to throw `.plot()` on the end??\n",
    "> \n",
    "> **TIP:** Make the largest bar be at the top of the graph\n",
    ">\n",
    "> **TIP:** If your chart seems... weird, think about where in the process you're sorting vs using `head`"
   ]
  },
  {
   "cell_type": "code",
   "execution_count": 115,
   "metadata": {
    "scrolled": true
   },
   "outputs": [
    {
     "data": {
      "text/plain": [
       "<Axes: ylabel='company'>"
      ]
     },
     "execution_count": 115,
     "metadata": {},
     "output_type": "execute_result"
    },
    {
     "data": {
      "image/png": "[encoded data removed]",
      "text/plain": [
       "<Figure size 640x480 with 1 Axes>"
      ]
     },
     "metadata": {},
     "output_type": "display_data"
    }
   ],
   "source": [
    "df['company'].value_counts().head(5).sort_values(ascending=True).plot(kind='barh')"
   ]
  },
  {
   "cell_type": "markdown",
   "metadata": {},
   "source": [
    "## 7) How much money do these top 5 billionaires have in total?\n",
    "\n",
    "> **TIP:** for multiple conditions, you can't use `or` and `and`. In pandas, `|` means *or* and `&` means *and*.\n",
    ">\n",
    "> **TIP:** Checking multiple conditions can be done two ways.\n",
    "> - `(df.colname == 'A') | (df.colname == 'B')`\n",
    "> - `df.colname.isin(['A', 'B'])`"
   ]
  },
  {
   "cell_type": "code",
   "execution_count": 116,
   "metadata": {},
   "outputs": [
    {
     "data": {
      "text/plain": [
       "18.7"
      ]
     },
     "execution_count": 116,
     "metadata": {},
     "output_type": "execute_result"
    }
   ],
   "source": [
    "companies = ['Hyatt','Oetkar-Gruppe','S. C. Johnson & Son', 'Votorantim Group', 'Alfa Group']\n",
    "money_df = df[df['company'].isin(companies)]\n",
    "money_df.head(5)['networthusbillion'].sum()"
   ]
  },
  {
   "cell_type": "markdown",
   "metadata": {},
   "source": [
    "## 8) What are the top 10 countries with the most money held by billionaires?\n",
    "\n",
    "I am **not** asking which country has the most billionaires - this is **total amount of money per country.**\n",
    "\n",
    "> **TIP:** Think about it in steps - \"I want them organized by country,\" \"I want their net worth,\" \"I want to add it all up,\" and \"I want 10 of them.\" Just chain it all together."
   ]
  },
  {
   "cell_type": "code",
   "execution_count": 117,
   "metadata": {},
   "outputs": [
    {
     "data": {
      "text/plain": [
       "countrycode\n",
       "USA    2322.4\n",
       "RUS     422.5\n",
       "DEU     401.4\n",
       "CHN     375.8\n",
       "FRA     235.3\n",
       "HKG     213.7\n",
       "BRA     192.2\n",
       "IND     191.9\n",
       "ITA     158.1\n",
       "GBR     152.0\n",
       "Name: networthusbillion, dtype: float64"
      ]
     },
     "execution_count": 117,
     "metadata": {},
     "output_type": "execute_result"
    }
   ],
   "source": [
    "df.groupby('countrycode')['networthusbillion'].sum().sort_values(ascending=False).head(10)"
   ]
  },
  {
   "cell_type": "markdown",
   "metadata": {},
   "source": [
    "## 9a) How old is an average billionaire?"
   ]
  },
  {
   "cell_type": "code",
   "execution_count": 118,
   "metadata": {},
   "outputs": [
    {
     "data": {
      "text/plain": [
       "63.34213836477988"
      ]
     },
     "execution_count": 118,
     "metadata": {},
     "output_type": "execute_result"
    }
   ],
   "source": [
    "df['age'].mean()"
   ]
  },
  {
   "cell_type": "markdown",
   "metadata": {},
   "source": [
    "## 9b) How old are self-made billionaires compared to non self-made billionaires? "
   ]
  },
  {
   "cell_type": "code",
   "execution_count": 119,
   "metadata": {},
   "outputs": [
    {
     "data": {
      "text/plain": [
       "selfmade\n",
       "inherited    64.962185\n",
       "self-made    62.625899\n",
       "Name: age, dtype: float64"
      ]
     },
     "execution_count": 119,
     "metadata": {},
     "output_type": "execute_result"
    }
   ],
   "source": [
    "df.groupby('selfmade')['age'].mean()"
   ]
  },
  {
   "cell_type": "code",
   "execution_count": null,
   "metadata": {},
   "outputs": [],
   "source": []
  },
  {
   "cell_type": "markdown",
   "metadata": {},
   "source": [
    "## 10a) Who are the three youngest billionaires? Who are the three oldest?"
   ]
  },
  {
   "cell_type": "code",
   "execution_count": 120,
   "metadata": {},
   "outputs": [
    {
     "name": "stdout",
     "output_type": "stream",
     "text": [
      "                  name   age\n",
      "1172       Perenna Kei  24.0\n",
      "397   Dustin Moskovitz  29.0\n",
      "1004   Mark Zuckerberg  29.0\n"
     ]
    }
   ],
   "source": [
    "youngest = df.sort_values('age').head(3)\n",
    "print(youngest[['name', 'age']])"
   ]
  },
  {
   "cell_type": "code",
   "execution_count": 121,
   "metadata": {},
   "outputs": [
    {
     "name": "stdout",
     "output_type": "stream",
     "text": [
      "                       name   age\n",
      "343  David Rockefeller, Sr.  98.0\n",
      "816           Karl Wlaschek  96.0\n",
      "836          Kirk Kerkorian  96.0\n"
     ]
    }
   ],
   "source": [
    "#oldest = df.sort_values('age').tail(3)\n",
    "#print(oldest[['name','age']])\n",
    "\n",
    "oldest=df.sort_values('age', ascending = False).head(3)\n",
    "print(oldest[['name', 'age']])"
   ]
  },
  {
   "cell_type": "markdown",
   "metadata": {},
   "source": [
    "## 10b) Make a graph of the distribution of ages.\n",
    "\n",
    "> **TIP:** You use `.plot()` to graph values in a column independently, but `.hist()` to draw a [histogram](https://www.mathsisfun.com/data/histograms.html) of the distribution of their values"
   ]
  },
  {
   "cell_type": "code",
   "execution_count": 122,
   "metadata": {},
   "outputs": [
    {
     "data": {
      "text/plain": [
       "<Axes: ylabel='Frequency'>"
      ]
     },
     "execution_count": 122,
     "metadata": {},
     "output_type": "execute_result"
    },
    {
     "data": {
      "image/png": "[encoded data removed]",
      "text/plain": [
       "<Figure size 640x480 with 1 Axes>"
      ]
     },
     "metadata": {},
     "output_type": "display_data"
    }
   ],
   "source": [
    "df['age'].plot.hist(bins=20)"
   ]
  },
  {
   "cell_type": "markdown",
   "metadata": {},
   "source": [
    "## 11) Make a scatterplot of net worth compared to age\n",
    "\n",
    "It's more fun to do this in Altair as compared to matplotlib, but either is fine."
   ]
  },
  {
   "cell_type": "code",
   "execution_count": 123,
   "metadata": {},
   "outputs": [
    {
     "data": {
      "text/plain": [
       "Text(0.5, 1.0, 'Scatterplot of net worth vs. age')"
      ]
     },
     "execution_count": 123,
     "metadata": {},
     "output_type": "execute_result"
    },
    {
     "data": {
      "image/png": "[encoded data removed]",
      "text/plain": [
       "<Figure size 640x480 with 1 Axes>"
      ]
     },
     "metadata": {},
     "output_type": "display_data"
    }
   ],
   "source": [
    "new_df = df[['networthusbillion', 'age']].dropna()\n",
    "plt.scatter(new_df['age'], new_df['networthusbillion'])\n",
    "plt.xlabel('Age')\n",
    "plt.ylabel('Net worth (in $ billion)')\n",
    "plt.title('Scatterplot of net worth vs. age')\n"
   ]
  },
  {
   "cell_type": "markdown",
   "metadata": {},
   "source": [
    "## 13) Make a bar graph of the wealth of the top 10 richest billionaires\n",
    "\n",
    "> **TIP:** When you make your plot, you'll need to set the `x` and `y` or else your chart will look _crazy_\n",
    ">\n",
    "> **TIP:** x and y might be the opposite of what you expect them to be"
   ]
  },
  {
   "cell_type": "code",
   "execution_count": 124,
   "metadata": {},
   "outputs": [
    {
     "data": {
      "text/plain": [
       "Text(0.5, 1.0, 'Top 10 richest billionaires')"
      ]
     },
     "execution_count": 124,
     "metadata": {},
     "output_type": "execute_result"
    },
    {
     "data": {
      "image/png": "[encoded data removed]",
      "text/plain": [
       "<Figure size 640x480 with 1 Axes>"
      ]
     },
     "metadata": {},
     "output_type": "display_data"
    }
   ],
   "source": [
    "df.sort_values('networthusbillion', ascending=False).head(10).plot(kind='bar', x='name', y='networthusbillion')\n",
    "plt.xlabel('Billionaire name')\n",
    "plt.ylabel('Net worth (in $ billion)')\n",
    "plt.title('Top 10 richest billionaires')\n"
   ]
  },
  {
   "cell_type": "markdown",
   "metadata": {},
   "source": [
    "## 14) Read in the most recent data\n",
    "\n",
    "I copied and pasted the most recent data from [the original Bloomberg story](https://www.bloomberg.com/billionaires/) (it's in the page's source code), but it all was saved as JSON. Can you use pandas to read in `billionaires.json`?\n",
    "\n",
    "> **TIP:** If `pd.read_csv` reads a CSV and `pd.read_excel` reads an excel file... what reads in JSON?\n",
    ">\n",
    "> **TIP:** It's a lot less complicated than what we did in class."
   ]
  },
  {
   "cell_type": "code",
   "execution_count": 125,
   "metadata": {},
   "outputs": [],
   "source": [
    "df = pd.read_json('billionaires.json')"
   ]
  },
  {
   "cell_type": "code",
   "execution_count": 126,
   "metadata": {},
   "outputs": [
    {
     "data": {
      "text/html": [
       "<div>\n",
       "<style scoped>\n",
       "    .dataframe tbody tr th:only-of-type {\n",
       "        vertical-align: middle;\n",
       "    }\n",
       "\n",
       "    .dataframe tbody tr th {\n",
       "        vertical-align: top;\n",
       "    }\n",
       "\n",
       "    .dataframe thead th {\n",
       "        text-align: right;\n",
       "    }\n",
       "</style>\n",
       "<table border=\"1\" class=\"dataframe\">\n",
       "  <thead>\n",
       "    <tr style=\"text-align: right;\">\n",
       "      <th></th>\n",
       "      <th>commonName</th>\n",
       "      <th>commonLastName</th>\n",
       "      <th>citizenship</th>\n",
       "      <th>slug</th>\n",
       "      <th>industry</th>\n",
       "      <th>personId</th>\n",
       "      <th>rank</th>\n",
       "      <th>worth</th>\n",
       "      <th>lastChange</th>\n",
       "      <th>lastPercentChange</th>\n",
       "      <th>ytdChange</th>\n",
       "      <th>ytdPercentChange</th>\n",
       "      <th>sector</th>\n",
       "      <th>fWorth</th>\n",
       "      <th>fLastChange</th>\n",
       "      <th>fYtdChange</th>\n",
       "      <th>fLastPercentChange</th>\n",
       "      <th>fYtdPercentChange</th>\n",
       "    </tr>\n",
       "  </thead>\n",
       "  <tbody>\n",
       "    <tr>\n",
       "      <th>0</th>\n",
       "      <td>Elon Musk</td>\n",
       "      <td>Musk</td>\n",
       "      <td>United States</td>\n",
       "      <td>elon-r-musk</td>\n",
       "      <td>Technology</td>\n",
       "      <td>1954518</td>\n",
       "      <td>1</td>\n",
       "      <td>221116780866</td>\n",
       "      <td>9795811154</td>\n",
       "      <td>4.64</td>\n",
       "      <td>84106712938</td>\n",
       "      <td>61.39</td>\n",
       "      <td>Technology</td>\n",
       "      <td>$221B</td>\n",
       "      <td>+$9.80B</td>\n",
       "      <td>+$84.1B</td>\n",
       "      <td>+4.6%</td>\n",
       "      <td>+61.4%</td>\n",
       "    </tr>\n",
       "    <tr>\n",
       "      <th>1</th>\n",
       "      <td>Bernard Arnault</td>\n",
       "      <td>Arnault</td>\n",
       "      <td>France</td>\n",
       "      <td>bernard-j-arnault</td>\n",
       "      <td>Consumer</td>\n",
       "      <td>1392853</td>\n",
       "      <td>2</td>\n",
       "      <td>170267873036</td>\n",
       "      <td>7356040557</td>\n",
       "      <td>4.52</td>\n",
       "      <td>8178459368</td>\n",
       "      <td>5.05</td>\n",
       "      <td>Consumer</td>\n",
       "      <td>$170B</td>\n",
       "      <td>+$7.36B</td>\n",
       "      <td>+$8.18B</td>\n",
       "      <td>+4.5%</td>\n",
       "      <td>+5.0%</td>\n",
       "    </tr>\n",
       "    <tr>\n",
       "      <th>2</th>\n",
       "      <td>Jeff Bezos</td>\n",
       "      <td>Bezos</td>\n",
       "      <td>United States</td>\n",
       "      <td>jeffrey-p-bezos</td>\n",
       "      <td>Technology</td>\n",
       "      <td>1642252</td>\n",
       "      <td>3</td>\n",
       "      <td>169556171871</td>\n",
       "      <td>3202661603</td>\n",
       "      <td>1.93</td>\n",
       "      <td>62599942079</td>\n",
       "      <td>58.53</td>\n",
       "      <td>Technology</td>\n",
       "      <td>$170B</td>\n",
       "      <td>+$3.20B</td>\n",
       "      <td>+$62.6B</td>\n",
       "      <td>+1.9%</td>\n",
       "      <td>+58.5%</td>\n",
       "    </tr>\n",
       "    <tr>\n",
       "      <th>3</th>\n",
       "      <td>Bill Gates</td>\n",
       "      <td>Gates</td>\n",
       "      <td>United States</td>\n",
       "      <td>william-h-gates</td>\n",
       "      <td>Technology</td>\n",
       "      <td>1390479</td>\n",
       "      <td>4</td>\n",
       "      <td>131137012631</td>\n",
       "      <td>1103482475</td>\n",
       "      <td>0.85</td>\n",
       "      <td>21900118029</td>\n",
       "      <td>20.05</td>\n",
       "      <td>Technology</td>\n",
       "      <td>$131B</td>\n",
       "      <td>+$1.10B</td>\n",
       "      <td>+$21.9B</td>\n",
       "      <td>+0.8%</td>\n",
       "      <td>+20.1%</td>\n",
       "    </tr>\n",
       "    <tr>\n",
       "      <th>4</th>\n",
       "      <td>Larry Ellison</td>\n",
       "      <td>Ellison</td>\n",
       "      <td>United States</td>\n",
       "      <td>lawrence-j-ellison</td>\n",
       "      <td>Technology</td>\n",
       "      <td>1491757</td>\n",
       "      <td>5</td>\n",
       "      <td>129608081535</td>\n",
       "      <td>2286642464</td>\n",
       "      <td>1.80</td>\n",
       "      <td>37780140594</td>\n",
       "      <td>41.14</td>\n",
       "      <td>Technology</td>\n",
       "      <td>$130B</td>\n",
       "      <td>+$2.29B</td>\n",
       "      <td>+$37.8B</td>\n",
       "      <td>+1.8%</td>\n",
       "      <td>+41.1%</td>\n",
       "    </tr>\n",
       "    <tr>\n",
       "      <th>...</th>\n",
       "      <td>...</td>\n",
       "      <td>...</td>\n",
       "      <td>...</td>\n",
       "      <td>...</td>\n",
       "      <td>...</td>\n",
       "      <td>...</td>\n",
       "      <td>...</td>\n",
       "      <td>...</td>\n",
       "      <td>...</td>\n",
       "      <td>...</td>\n",
       "      <td>...</td>\n",
       "      <td>...</td>\n",
       "      <td>...</td>\n",
       "      <td>...</td>\n",
       "      <td>...</td>\n",
       "      <td>...</td>\n",
       "      <td>...</td>\n",
       "      <td>...</td>\n",
       "    </tr>\n",
       "    <tr>\n",
       "      <th>495</th>\n",
       "      <td>Sofie Kirk Kristiansen</td>\n",
       "      <td>Kristiansen</td>\n",
       "      <td>Denmark</td>\n",
       "      <td>sofie-kirk-k-kristiansen</td>\n",
       "      <td>Consumer</td>\n",
       "      <td>17992920</td>\n",
       "      <td>496</td>\n",
       "      <td>5145062341</td>\n",
       "      <td>33748968</td>\n",
       "      <td>0.66</td>\n",
       "      <td>-292738682</td>\n",
       "      <td>-5.38</td>\n",
       "      <td>Consumer</td>\n",
       "      <td>$5.15B</td>\n",
       "      <td>+$33.7M</td>\n",
       "      <td>-$293M</td>\n",
       "      <td>+0.7%</td>\n",
       "      <td>-5.4%</td>\n",
       "    </tr>\n",
       "    <tr>\n",
       "      <th>496</th>\n",
       "      <td>Frits Goldschmeding</td>\n",
       "      <td>Goldschmeding</td>\n",
       "      <td>Netherlands</td>\n",
       "      <td>frits-j-goldschmeding</td>\n",
       "      <td>Retail</td>\n",
       "      <td>3368283</td>\n",
       "      <td>497</td>\n",
       "      <td>5136282642</td>\n",
       "      <td>154239727</td>\n",
       "      <td>3.10</td>\n",
       "      <td>-7773499</td>\n",
       "      <td>-0.15</td>\n",
       "      <td>Retail</td>\n",
       "      <td>$5.14B</td>\n",
       "      <td>+$154M</td>\n",
       "      <td>-$7.77M</td>\n",
       "      <td>+3.1%</td>\n",
       "      <td>-0.1%</td>\n",
       "    </tr>\n",
       "    <tr>\n",
       "      <th>497</th>\n",
       "      <td>Austen Cargill</td>\n",
       "      <td>Cargill</td>\n",
       "      <td>United States</td>\n",
       "      <td>austen-s-cargill</td>\n",
       "      <td>Commodities</td>\n",
       "      <td>1878644</td>\n",
       "      <td>498</td>\n",
       "      <td>5132489050</td>\n",
       "      <td>0</td>\n",
       "      <td>0.00</td>\n",
       "      <td>38448500</td>\n",
       "      <td>0.75</td>\n",
       "      <td>Commodities</td>\n",
       "      <td>$5.13B</td>\n",
       "      <td>$0</td>\n",
       "      <td>+$38.4M</td>\n",
       "      <td>0%</td>\n",
       "      <td>+0.8%</td>\n",
       "    </tr>\n",
       "    <tr>\n",
       "      <th>498</th>\n",
       "      <td>John Reece</td>\n",
       "      <td>Reece</td>\n",
       "      <td>United Kingdom</td>\n",
       "      <td>john-reece</td>\n",
       "      <td>Industrial</td>\n",
       "      <td>18070530</td>\n",
       "      <td>499</td>\n",
       "      <td>5125353358</td>\n",
       "      <td>0</td>\n",
       "      <td>0.00</td>\n",
       "      <td>1839914334</td>\n",
       "      <td>56.00</td>\n",
       "      <td>Industrial</td>\n",
       "      <td>$5.13B</td>\n",
       "      <td>$0</td>\n",
       "      <td>+$1.84B</td>\n",
       "      <td>0%</td>\n",
       "      <td>+56.0%</td>\n",
       "    </tr>\n",
       "    <tr>\n",
       "      <th>499</th>\n",
       "      <td>Patrick Collison</td>\n",
       "      <td>Collison</td>\n",
       "      <td>Ireland</td>\n",
       "      <td>patrick-collison</td>\n",
       "      <td>Technology</td>\n",
       "      <td>17559658</td>\n",
       "      <td>500</td>\n",
       "      <td>5118900000</td>\n",
       "      <td>0</td>\n",
       "      <td>0.00</td>\n",
       "      <td>-3175100000</td>\n",
       "      <td>-38.28</td>\n",
       "      <td>Technology</td>\n",
       "      <td>$5.12B</td>\n",
       "      <td>$0</td>\n",
       "      <td>-$3.18B</td>\n",
       "      <td>0%</td>\n",
       "      <td>-38.3%</td>\n",
       "    </tr>\n",
       "  </tbody>\n",
       "</table>\n",
       "<p>500 rows × 18 columns</p>\n",
       "</div>"
      ],
      "text/plain": [
       "                 commonName commonLastName     citizenship  \\\n",
       "0                 Elon Musk           Musk   United States   \n",
       "1           Bernard Arnault        Arnault          France   \n",
       "2                Jeff Bezos          Bezos   United States   \n",
       "3                Bill Gates          Gates   United States   \n",
       "4             Larry Ellison        Ellison   United States   \n",
       "..                      ...            ...             ...   \n",
       "495  Sofie Kirk Kristiansen    Kristiansen         Denmark   \n",
       "496     Frits Goldschmeding  Goldschmeding     Netherlands   \n",
       "497          Austen Cargill        Cargill   United States   \n",
       "498              John Reece          Reece  United Kingdom   \n",
       "499        Patrick Collison       Collison         Ireland   \n",
       "\n",
       "                         slug     industry  personId  rank         worth  \\\n",
       "0                 elon-r-musk   Technology   1954518     1  221116780866   \n",
       "1           bernard-j-arnault     Consumer   1392853     2  170267873036   \n",
       "2             jeffrey-p-bezos   Technology   1642252     3  169556171871   \n",
       "3             william-h-gates   Technology   1390479     4  131137012631   \n",
       "4          lawrence-j-ellison   Technology   1491757     5  129608081535   \n",
       "..                        ...          ...       ...   ...           ...   \n",
       "495  sofie-kirk-k-kristiansen     Consumer  17992920   496    5145062341   \n",
       "496     frits-j-goldschmeding       Retail   3368283   497    5136282642   \n",
       "497          austen-s-cargill  Commodities   1878644   498    5132489050   \n",
       "498                john-reece   Industrial  18070530   499    5125353358   \n",
       "499          patrick-collison   Technology  17559658   500    5118900000   \n",
       "\n",
       "     lastChange  lastPercentChange    ytdChange  ytdPercentChange  \\\n",
       "0    9795811154               4.64  84106712938             61.39   \n",
       "1    7356040557               4.52   8178459368              5.05   \n",
       "2    3202661603               1.93  62599942079             58.53   \n",
       "3    1103482475               0.85  21900118029             20.05   \n",
       "4    2286642464               1.80  37780140594             41.14   \n",
       "..          ...                ...          ...               ...   \n",
       "495    33748968               0.66   -292738682             -5.38   \n",
       "496   154239727               3.10     -7773499             -0.15   \n",
       "497           0               0.00     38448500              0.75   \n",
       "498           0               0.00   1839914334             56.00   \n",
       "499           0               0.00  -3175100000            -38.28   \n",
       "\n",
       "          sector  fWorth fLastChange fYtdChange fLastPercentChange  \\\n",
       "0     Technology   $221B     +$9.80B    +$84.1B              +4.6%   \n",
       "1       Consumer   $170B     +$7.36B    +$8.18B              +4.5%   \n",
       "2     Technology   $170B     +$3.20B    +$62.6B              +1.9%   \n",
       "3     Technology   $131B     +$1.10B    +$21.9B              +0.8%   \n",
       "4     Technology   $130B     +$2.29B    +$37.8B              +1.8%   \n",
       "..           ...     ...         ...        ...                ...   \n",
       "495     Consumer  $5.15B     +$33.7M     -$293M              +0.7%   \n",
       "496       Retail  $5.14B      +$154M    -$7.77M              +3.1%   \n",
       "497  Commodities  $5.13B          $0    +$38.4M                 0%   \n",
       "498   Industrial  $5.13B          $0    +$1.84B                 0%   \n",
       "499   Technology  $5.12B          $0    -$3.18B                 0%   \n",
       "\n",
       "    fYtdPercentChange  \n",
       "0              +61.4%  \n",
       "1               +5.0%  \n",
       "2              +58.5%  \n",
       "3              +20.1%  \n",
       "4              +41.1%  \n",
       "..                ...  \n",
       "495             -5.4%  \n",
       "496             -0.1%  \n",
       "497             +0.8%  \n",
       "498            +56.0%  \n",
       "499            -38.3%  \n",
       "\n",
       "[500 rows x 18 columns]"
      ]
     },
     "execution_count": 126,
     "metadata": {},
     "output_type": "execute_result"
    }
   ],
   "source": [
    "df"
   ]
  },
  {
   "cell_type": "code",
   "execution_count": null,
   "metadata": {},
   "outputs": [],
   "source": []
  }
 ],
 "metadata": {
  "kernelspec": {
   "display_name": "Python 3 (ipykernel)",
   "language": "python",
   "name": "python3"
  },
  "language_info": {
   "codemirror_mode": {
    "name": "ipython",
    "version": 3
   },
   "file_extension": ".py",
   "mimetype": "text/x-python",
   "name": "python",
   "nbconvert_exporter": "python",
   "pygments_lexer": "ipython3",
   "version": "3.11.6"
  }
 },
 "nbformat": 4,
 "nbformat_minor": 4
}
